{
 "cells": [
  {
   "cell_type": "code",
   "execution_count": 27,
   "id": "444063e0",
   "metadata": {},
   "outputs": [],
   "source": [
    "import requests\n",
    "from fake_useragent import UserAgent\n",
    "from bs4 import BeautifulSoup\n",
    "import lxml\n",
    "\n",
    "import time\n",
    "from selenium import webdriver\n",
    "from selenium.webdriver.common.by import By\n",
    "from selenium.webdriver.common.keys import Keys\n",
    "\n",
    "import pandas as pd\n",
    "\n",
    "from datetime import datetime\n",
    "\n",
    "#Отображение колонок и строк в VScode\n",
    "pd.set_option('display.max_rows', None)\n",
    "pd.set_option('display.max_columns', None)"
   ]
  },
  {
   "cell_type": "code",
   "execution_count": 25,
   "id": "0c808b1c",
   "metadata": {},
   "outputs": [],
   "source": [
    "profs_all = pd.read_csv('profs.txt', header=None, names=['profs_names'])\n",
    "profs_test = pd.read_csv('profs_test.txt', header=None, names=['profs_names'])"
   ]
  },
  {
   "cell_type": "code",
   "execution_count": 28,
   "id": "0dafb685",
   "metadata": {},
   "outputs": [],
   "source": [
    "tinkoff_job = pd.DataFrame(columns=['link', 'name', 'location', 'company', 'date', 'description', 'date_of_download'])\n",
    "df_test = pd.DataFrame(columns=['link', 'name', 'location', 'company', 'date', 'description', 'date_of_download'])"
   ]
  },
  {
   "cell_type": "code",
   "execution_count": 93,
   "id": "7fee864e",
   "metadata": {},
   "outputs": [
    {
     "name": "stdout",
     "output_type": "stream",
     "text": [
      "[]\n"
     ]
    }
   ],
   "source": [
    "from urllib.request import urlopen\n",
    "\n",
    "url = urlopen('https://www.tinkoff.ru/career/it/')\n",
    "soup = BeautifulSoup(url.read(), 'lxml')\n",
    "\n",
    "headers = {}\n",
    "rows = soup.find_all(\"tr\")\n",
    "thead = soup.find_all(\"th\")\n",
    "\n",
    "for i in range(len(thead)):\n",
    "     headers[i] = thead[i].text.strip().lower()\n",
    "\n",
    "data = []\n",
    "\n",
    "for row in rows:\n",
    "     cells = row.find_all(\"td\")\n",
    "\n",
    "item = {}\n",
    "\n",
    "for index in headers:\n",
    "     item[headers[index]] = cells[index].text\n",
    "     data.append(item)\n",
    "\n",
    "print(data)\n"
   ]
  },
  {
   "cell_type": "code",
   "execution_count": 50,
   "id": "b9419e0a",
   "metadata": {},
   "outputs": [],
   "source": [
    "class TinkoffJobParser:\n",
    "\n",
    "    url = 'https://www.tinkoff.ru/career/it/'\n",
    "    \n",
    "    def __init__(self):\n",
    "        self.browser = webdriver.Chrome()\n",
    "        self.browser.get(self.url)\n",
    "        self.browser.maximize_window()\n",
    "        self.browser.delete_all_cookies()\n",
    "        time.sleep(2)\n",
    "\n",
    "    def scroll_page(self, page_height=0):\n",
    "        to_button = self.browser.find_element(By.CLASS_NAME, 'b5VfE3')\n",
    "        self.browser.execute_script(\"return arguments[0].scrollIntoView(true);\", to_button)\n",
    "        \n",
    "    def stop(self):\n",
    "        '''\n",
    "        Выйти из Webdriver selenium\n",
    "        '''\n",
    "        self.browser.quit()\n",
    "    \n",
    "    def find_vacancies(self):\n",
    "        '''\n",
    "        Функция для ввода названия вакансии (vac_type) в поисковую строку и клика клавиши Enter\n",
    "        '''\n",
    "        try:\n",
    "            # находим количество строк в таблице\n",
    "            rows = len(self.browser.find_elements(by=By.XPATH, value = '/html/body/div[1]/div/div[3]/div/div[2]/div[1]/div[1]/table/tbody/tr[1]'))\n",
    "            # подсчет количества столбцов\n",
    "            cols = len(self.browser.find_elements(by=By.XPATH, value = '/html/body/div[1]/div/div[3]/div/div[2]/div[1]/div[1]/table/tbody/tr[1]/td[1]'))\n",
    "            \n",
    "\n",
    "        except:\n",
    "            #input_button.clear()\n",
    "            pass\n",
    "            \n",
    "        df_test.drop_duplicates(subset=['link'], keep='last')\n",
    "\n",
    "    def find_description(self):\n",
    "        for descr in range(len(df_test)):\n",
    "            try:\n",
    "                link = df_test.loc[descr, 'link']\n",
    "                self.browser.get(link)\n",
    "                self.browser.delete_all_cookies()\n",
    "                time.sleep(3)\n",
    "\n",
    "                df_test.loc[descr, 'description'] = self.browser.find_element(By.CLASS_NAME, 'section').text\n",
    "            except:\n",
    "                pass\n",
    "\n",
    "    def save_df(self):\n",
    "        df_test.to_csv(f\"all_{datetime.now()}.txt\", index=False, sep=';')"
   ]
  },
  {
   "cell_type": "code",
   "execution_count": 51,
   "id": "1aeaa577",
   "metadata": {},
   "outputs": [],
   "source": [
    "parser = TinkoffJobParser()\n",
    "parser.find_vacancies()\n",
    "parser.stop()"
   ]
  },
  {
   "cell_type": "code",
   "execution_count": 39,
   "id": "6537e78d",
   "metadata": {},
   "outputs": [
    {
     "ename": "TypeError",
     "evalue": "TinkoffJobParser.__init__() takes 1 positional argument but 2 were given",
     "output_type": "error",
     "traceback": [
      "\u001b[1;31m---------------------------------------------------------------------------\u001b[0m",
      "\u001b[1;31mTypeError\u001b[0m                                 Traceback (most recent call last)",
      "Cell \u001b[1;32mIn[39], line 1\u001b[0m\n\u001b[1;32m----> 1\u001b[0m parser \u001b[39m=\u001b[39m TinkoffJobParser(profs_all)\n\u001b[0;32m      2\u001b[0m parser\u001b[39m.\u001b[39mfind_description()\n\u001b[0;32m      3\u001b[0m parser\u001b[39m.\u001b[39mstop()\n",
      "\u001b[1;31mTypeError\u001b[0m: TinkoffJobParser.__init__() takes 1 positional argument but 2 were given"
     ]
    }
   ],
   "source": [
    "parser = TinkoffJobParser(profs_all)\n",
    "parser.find_description()\n",
    "parser.stop()"
   ]
  },
  {
   "cell_type": "code",
   "execution_count": 49,
   "id": "6d0e620e",
   "metadata": {},
   "outputs": [
    {
     "data": {
      "text/html": [
       "<div>\n",
       "<style scoped>\n",
       "    .dataframe tbody tr th:only-of-type {\n",
       "        vertical-align: middle;\n",
       "    }\n",
       "\n",
       "    .dataframe tbody tr th {\n",
       "        vertical-align: top;\n",
       "    }\n",
       "\n",
       "    .dataframe thead th {\n",
       "        text-align: right;\n",
       "    }\n",
       "</style>\n",
       "<table border=\"1\" class=\"dataframe\">\n",
       "  <thead>\n",
       "    <tr style=\"text-align: right;\">\n",
       "      <th></th>\n",
       "      <th>link</th>\n",
       "      <th>name</th>\n",
       "      <th>location</th>\n",
       "      <th>company</th>\n",
       "      <th>date</th>\n",
       "      <th>description</th>\n",
       "      <th>date_of_download</th>\n",
       "    </tr>\n",
       "  </thead>\n",
       "  <tbody>\n",
       "  </tbody>\n",
       "</table>\n",
       "</div>"
      ],
      "text/plain": [
       "Empty DataFrame\n",
       "Columns: [link, name, location, company, date, description, date_of_download]\n",
       "Index: []"
      ]
     },
     "execution_count": 49,
     "metadata": {},
     "output_type": "execute_result"
    }
   ],
   "source": [
    "df_test"
   ]
  },
  {
   "cell_type": "code",
   "execution_count": 109,
   "id": "f46b7458",
   "metadata": {},
   "outputs": [],
   "source": [
    "df_test.to_csv(f\"all_vk.txt\", index=False, sep='(/)')"
   ]
  }
 ],
 "metadata": {
  "kernelspec": {
   "display_name": "Python 3 (ipykernel)",
   "language": "python",
   "name": "python3"
  },
  "language_info": {
   "codemirror_mode": {
    "name": "ipython",
    "version": 3
   },
   "file_extension": ".py",
   "mimetype": "text/x-python",
   "name": "python",
   "nbconvert_exporter": "python",
   "pygments_lexer": "ipython3",
   "version": "3.11.4"
  }
 },
 "nbformat": 4,
 "nbformat_minor": 5
}
